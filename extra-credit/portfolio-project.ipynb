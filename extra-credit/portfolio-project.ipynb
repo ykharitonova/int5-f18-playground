{
 "cells": [
  {
   "cell_type": "markdown",
   "metadata": {},
   "source": [
    "## Welcome to the Portfolio Project!\n",
    "\n",
    "Think of this project as a very first step in building your portfolio that showcases your work, skills, and interests. All code that you submit as part of this project should use the skills that you learned in this class, i.e., we will not accept projects written using Pandas or advanced Python code.\n",
    "\n",
    "If your project is really well-written, we will consider adapting it into a lab format in future iterations of this course (this acknowledgment could later be added to your portfolio). Do not hesitate to contact the instructor for feedback on your notebook, before you submit it.\n",
    "\n",
    "The following article provides some helpful guidelines to consider when assembling your notebook. I recommend reading it before you start on the project: [A Data Science Project Style Guide\n",
    "from Dataquest](https://www.dataquest.io/blog/data-science-project-style-guide).\n",
    "\n",
    "Feel free to modify this notebook and add your context and code below.\n",
    "Submit your work by December 15, 2018 at 1PM."
   ]
  },
  {
   "cell_type": "markdown",
   "metadata": {},
   "source": [
    "\n",
    "### Introduction\n",
    "\n",
    "In addition to a good title, write an introduction that explains\n",
    "* the motivation for the project,\n",
    "* a description of the research question or your hypothesis,\n",
    "* the initial goal for the exploration and data analysis,\n",
    "* a list of data sources with _links to the CSV files_,\n",
    "* questions that you would like to explore.\n",
    "\n",
    "You need to use real-world data for your project. You can also create a simulation. Two example websites that have a lot of datasets are [Kaggle](https://www.kaggle.com/datasets) and the [UCI Machine Learning Repository](https://archive.ics.uci.edu/ml/datasets.html).\n",
    "\n",
    "The complexity of your project and the subsequent work you put into it will determine the amount of points your work will receive.\n",
    "\n",
    "\n",
    "### Exploratory Data Analysis (EDA)\n",
    "\n",
    "You should be able to go through your data and explain what is stored in each column and which columns are relevant to your question/hypothesis. As you are visualizing the data, clearly list your additional questions/hypotheses that come up.\n",
    "\n",
    "Make sure to include visualizations for your projects.\n",
    "\n",
    "### Conclusion\n",
    "\n",
    "What was the outcome of EDA? What questions are still left unanswered?"
   ]
  },
  {
   "cell_type": "code",
   "execution_count": null,
   "metadata": {},
   "outputs": [],
   "source": [
    "_ = ok.submit()"
   ]
  }
 ],
 "metadata": {
  "kernelspec": {
   "display_name": "Python 3",
   "language": "python",
   "name": "python3"
  },
  "language_info": {
   "codemirror_mode": {
    "name": "ipython",
    "version": 3
   },
   "file_extension": ".py",
   "mimetype": "text/x-python",
   "name": "python",
   "nbconvert_exporter": "python",
   "pygments_lexer": "ipython3",
   "version": "3.6.5"
  }
 },
 "nbformat": 4,
 "nbformat_minor": 2
}
