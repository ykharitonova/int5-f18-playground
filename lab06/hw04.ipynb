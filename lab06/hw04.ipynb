{
 "cells": [
  {
   "cell_type": "markdown",
   "metadata": {},
   "source": [
    "# Lab 6: Group, Join, Conditionals, Iteration, Randomness. \n",
    "## Due Friday November 16th, 9:00am\n",
    "\n",
    "Directly sharing answers is not okay, but discussing problems with the course staff or with other students is encouraged. \n",
    "\n",
    "You should start early so that you have time to get help if you're stuck."
   ]
  },
  {
   "cell_type": "code",
   "execution_count": null,
   "metadata": {
    "collapsed": true
   },
   "outputs": [],
   "source": [
    "# Don't change this cell; just run it. \n",
    "\n",
    "import numpy as np\n",
    "from datascience import *\n",
    "\n",
    "%matplotlib inline\n",
    "import matplotlib.pyplot as plots\n",
    "plots.style.use('fivethirtyeight')\n",
    "\n",
    "from client.api.notebook import Notebook\n",
    "ok = Notebook('hw04.ok')\n",
    "_ = ok.auth(inline=True)"
   ]
  },
  {
   "cell_type": "markdown",
   "metadata": {},
   "source": [
    "**Important**: The `ok` tests don't usually tell you that your answer is correct. More often, they help catch careless mistakes. It's up to you to ensure that your answer is correct. If you're not sure, ask someone (not for the answer, but for some guidance about your approach)."
   ]
  },
  {
   "cell_type": "markdown",
   "metadata": {},
   "source": [
    "Once you're finished, you must do two things:\n",
    "\n",
    "### a. Turn into OK\n",
    "Select \"Save and Checkpoint\" in the File menu and then execute the `submit` cell below. The result will contain a link that you can use to check that your assignment has been submitted successfully. If you submit more than once before the deadline, we will only grade your final submission."
   ]
  },
  {
   "cell_type": "code",
   "execution_count": null,
   "metadata": {
    "collapsed": true
   },
   "outputs": [],
   "source": [
    "_ = ok.submit()"
   ]
  },
  {
   "cell_type": "markdown",
   "metadata": {
    "collapsed": true
   },
   "source": [
    "### b. Turn PDF into Gradescope\n",
    "Select File > Download As > PDF via LaTeX in the File menu. Turn in this PDF file into the respective assignement at https://gradescope.com/.\n",
    "<br>\n",
    "If you submit more than once before the deadline, we will only grade your final submission"
   ]
  },
  {
   "cell_type": "markdown",
   "metadata": {},
   "source": [
    "## 1. Extravaganza Lineup"
   ]
  },
  {
   "cell_type": "markdown",
   "metadata": {},
   "source": [
    "Every spring, UCSB hosts Extravaganza, a one-day on-campus music festival. The following questions are based on last year's festival. The AS Program Board (an on-campus organization tasked with organizing entertainment events) sends out a survey to UCSB students asking for their suggestions for music artists. The instructions in the survey specify that each student should select a first choice artist (rank 1), a second choice artist (rank 2), and a third choice artist (rank 3). Run the following cell to see how the first several students responded."
   ]
  },
  {
   "cell_type": "code",
   "execution_count": null,
   "metadata": {
    "collapsed": true
   },
   "outputs": [],
   "source": [
    "survey = Table().read_table(\"survey.csv\")\n",
    "survey"
   ]
  },
  {
   "cell_type": "markdown",
   "metadata": {},
   "source": [
    "After these responses come in, however, the AS Program Board notices that their survey form does not actually enforce that each participant choose a single first choice artist, a single second choice artist, and a single third choice artist. Run the cell below to see an example of a student who did not follow the survey's instructions. "
   ]
  },
  {
   "cell_type": "code",
   "execution_count": null,
   "metadata": {
    "collapsed": true,
    "scrolled": true
   },
   "outputs": [],
   "source": [
    "survey.where(\"Perm Number\", \"5978341\")"
   ]
  },
  {
   "cell_type": "markdown",
   "metadata": {},
   "source": [
    "The AS Program Board decides to identify all students who did not follow the survey's instructions, delete their votes from the table, and email the students to tell them that their votes did not comply with the rules, and that they should revote if they want to have a say in the Extravaganza lineup. \n",
    "\n",
    "The email addreses of all students are available in the student database, a portion of which is displayed in the table below."
   ]
  },
  {
   "cell_type": "code",
   "execution_count": null,
   "metadata": {
    "collapsed": true
   },
   "outputs": [],
   "source": [
    "database = Table().read_table(\"student_data.csv\")\n",
    "database"
   ]
  },
  {
   "cell_type": "markdown",
   "metadata": {},
   "source": [
    "**Question 1.1**  Use the survey data and the student database information to identify the students who did not follow the survey's instructions. Make an array called `violators` that contains the email address of all students who did not follow the survey's instructions. \n",
    "\n",
    "**Hint 1:** *Use the `group` command with second argument `list` to see how each student voted.*\n",
    "\n",
    "**Hint 2:** *Sort the data so that each student who voted correctly has a rank list that looks like `[1, 2, 3]`.*"
   ]
  },
  {
   "cell_type": "code",
   "execution_count": null,
   "metadata": {
    "collapsed": true
   },
   "outputs": [],
   "source": [
    "violators = ...\n",
    "violators"
   ]
  },
  {
   "cell_type": "code",
   "execution_count": null,
   "metadata": {
    "collapsed": true
   },
   "outputs": [],
   "source": [
    "_ = ok.grade('q1_1')"
   ]
  },
  {
   "cell_type": "markdown",
   "metadata": {},
   "source": [
    "**Question 1.2** Now delete the rows from the table `survey` that correspond to the voters in `violators`. After this, the table `survey` should have only valid votes in it."
   ]
  },
  {
   "cell_type": "code",
   "execution_count": null,
   "metadata": {
    "collapsed": true
   },
   "outputs": [],
   "source": [
    "survey = ...\n",
    "survey"
   ]
  },
  {
   "cell_type": "code",
   "execution_count": null,
   "metadata": {
    "collapsed": true
   },
   "outputs": [],
   "source": [
    "_ = ok.grade('q1_2')"
   ]
  },
  {
   "cell_type": "markdown",
   "metadata": {},
   "source": [
    "After months of collecting votes and contacting artists, the 2017-18 UC Santa Barbara Extravaganza lineup has officially been released! Run the following cell to see a table of the scheduled performers and their respective numbers of Instagram followers (in thousands)."
   ]
  },
  {
   "cell_type": "code",
   "execution_count": null,
   "metadata": {
    "collapsed": true
   },
   "outputs": [],
   "source": [
    "extravaganza_performers = [\"Dillon Francis\", \"Charli XCX\", \"Cardi B\", \"Coast Modern\"]\n",
    "extravaganza_instagram = [2105, 3101, 35100, 15.5]\n",
    "\n",
    "extravaganza_lineup = Table().with_columns(\"Artists\", extravaganza_performers, \"Instagram\", extravaganza_instagram)\n",
    "extravaganza_lineup.show()"
   ]
  },
  {
   "cell_type": "markdown",
   "metadata": {},
   "source": [
    "As we come closer to the event, we get word that one of the performers is unable to make it to Extravaganza, and has been replaced by another performer instead! Run the following cell to see a table of the new lineup and their respective numbers of Twitter followers (in thousands)."
   ]
  },
  {
   "cell_type": "code",
   "execution_count": null,
   "metadata": {
    "collapsed": true
   },
   "outputs": [],
   "source": [
    "new_performers = [\"Dillon Francis\", \"Charli XCX\", \"DRAM\", \"Coast Modern\"]\n",
    "new_twitter = [1057, 3249, 123, 8]\n",
    "\n",
    "new_lineup = Table().with_columns(\"Performers\", new_performers, \"Twitter\", new_twitter)\n",
    "new_lineup.show()"
   ]
  },
  {
   "cell_type": "markdown",
   "metadata": {},
   "source": [
    "**Question 1.3** Use the `join` method to join these two tables together so each row contains the name of the performer, their number of Instagram followers (in thousands), and their number of Twitter followers (in thousands). Save this new table into the variable `lineup_data`."
   ]
  },
  {
   "cell_type": "code",
   "execution_count": null,
   "metadata": {
    "collapsed": true
   },
   "outputs": [],
   "source": [
    "lineup_data = ...\n",
    "lineup_data"
   ]
  },
  {
   "cell_type": "code",
   "execution_count": null,
   "metadata": {
    "collapsed": true
   },
   "outputs": [],
   "source": [
    "_ = ok.grade('q1_3')"
   ]
  },
  {
   "cell_type": "markdown",
   "metadata": {},
   "source": [
    "**Question 1.4** You should notice that a couple of artists are missing. Which ones are missing and why are they not in the new table?"
   ]
  },
  {
   "cell_type": "markdown",
   "metadata": {},
   "source": [
    "<hr style=\"color:Maroon;background-color:Maroon;border:0 none; height: 3px;\">\n",
    "Replace this text with your answer\n",
    "<hr style=\"color:Maroon;background-color:Maroon;border:0 none; height: 3px;\">"
   ]
  },
  {
   "cell_type": "markdown",
   "metadata": {},
   "source": [
    "**Question 1.5** Let's add `DRAM` back into the `lineup_data` table so that we can see all the artists who actually performed at Extravaganza last year. DRAM currently has 294.8 thousand Instagram followers and 122.5 thousand Twitter followers."
   ]
  },
  {
   "cell_type": "code",
   "execution_count": null,
   "metadata": {
    "collapsed": true
   },
   "outputs": [],
   "source": [
    "lineup_data = ...\n",
    "lineup_data"
   ]
  },
  {
   "cell_type": "code",
   "execution_count": null,
   "metadata": {
    "collapsed": true
   },
   "outputs": [],
   "source": [
    "_ = ok.grade('q1_5')"
   ]
  },
  {
   "cell_type": "markdown",
   "metadata": {},
   "source": [
    "## 2. Attending Lecture"
   ]
  },
  {
   "cell_type": "markdown",
   "metadata": {},
   "source": [
    "<img src=\"lecture.jpg\" width=30%>\n",
    "Suppose we have an unmotivated student that is determining whether or not to go to class. The student's willingness to go to class or not depends on a few factors (represented as boolean variables): \n",
    "* if the class is DSC10 (boolean variable `dsc10`), '\n",
    "* if the class requires iClicker participation (boolean variable `iClickers`), and\n",
    "* if the class is early, defined as before 11am (boolean variable `early`)."
   ]
  },
  {
   "cell_type": "markdown",
   "metadata": {},
   "source": [
    "Write a function called `go_to_class` that takes in these three boolean variables and returns `True` if the student will go to class, and `False` if the student will not go to class. The function should obey the following logic:\n",
    "* Class is DSC10 → Go to class\n",
    "* Class doesn’t require iClickers and is early → Skip class\n",
    "* Class requires iClickers and is not early → Go to class\n",
    "* All other situations → Skip class"
   ]
  },
  {
   "cell_type": "code",
   "execution_count": null,
   "metadata": {
    "collapsed": true
   },
   "outputs": [],
   "source": [
    "# Define your function here\n",
    "def go_to_class(dsc10, iClickers, early):\n",
    "    return ...\n",
    "\n",
    "# Feel free to change the boolean valuables of these variables to test your function\n",
    "go_to_class(True, False, False)"
   ]
  },
  {
   "cell_type": "markdown",
   "metadata": {},
   "source": [
    "## 3. Vine Quotes "
   ]
  },
  {
   "cell_type": "markdown",
   "metadata": {},
   "source": [
    "Recently, the video website Vine was shut down. Now, their database is jumbled up and you need to help put it back in order. In this problem, you will reconstruct quotes from Vine videos given partial quotes. Use a `for` loop to combine a list of first halves of quotes and a list of second halves of quotes into a new list called `completed_quotes`.\n",
    "\n",
    "When combining the two halves, you should: \n",
    "* Capitalize the first letter of the quote.\n",
    "* Insert a space a between the first half and the second half of the quote.\n",
    "* Add a period to the end of the quote.\n",
    "\n",
    "For example, given the list `[“hello,”, “gotta”]` and  `[“there\", “go”]`, you should create the list `[“Hello, there.”, “Gotta go.”]`.\n",
    "\n",
    "**Hint:** *To capitalize the first letter of a string `s`, use the string method `upper()` on the character at index 0, then append the characters from index 1 until the end, like this :* `s[0].upper()+s[1:len(s)]`"
   ]
  },
  {
   "cell_type": "code",
   "execution_count": null,
   "metadata": {
    "collapsed": true
   },
   "outputs": [],
   "source": [
    "first_half = [\"hi, welcome\", \"road work ahead? Uh,\", \"it's an avocado!\", \"go to Del Taco.\", \"what up I'm Jared, I'm 19\", \"i smell\", \"it is Wednesday,\"]\n",
    "second_half = [\" to chilis\", \"yeah, I sure hope it does\", \"Thaaaaankss...\", \"They got a new thing called FreSHAvaCADO\", \"and I never learned how to read\", \"like beef\", \"my dudes\"]\n",
    "\n",
    "completed_quotes = []\n",
    "..."
   ]
  },
  {
   "cell_type": "code",
   "execution_count": null,
   "metadata": {
    "collapsed": true
   },
   "outputs": [],
   "source": [
    "_ = ok.grade('q3')"
   ]
  },
  {
   "cell_type": "markdown",
   "metadata": {},
   "source": [
    "## 4. Memes"
   ]
  },
  {
   "cell_type": "markdown",
   "metadata": {},
   "source": [
    "<img src=\"exit2.jpg\" width=40%><img src=\"exit1.jpg\" width=40%>"
   ]
  },
  {
   "cell_type": "markdown",
   "metadata": {
    "collapsed": true
   },
   "source": [
    "Twitter has just hired you to analyze some of its most popular memes! Run the following cell to see a table of information on recent Twitter posts that contained memes of certain popular formats. For each Twitter post, the table contains\n",
    "* The format of the meme in the post. For example, the format *Last Exit* shows a car swerving onto an off ramp. The sign above shows the choice the car should make and the choice the car actually makes. Two examples of a meme in this format are shown above.\n",
    "* The Twitter handle (username) of the person who made the post.\n",
    "* The number of retweets (shares).\n",
    "* The number of likes.\n",
    "* The number of days from when the post was generated to when you got the dataset.\n"
   ]
  },
  {
   "cell_type": "code",
   "execution_count": null,
   "metadata": {
    "collapsed": true
   },
   "outputs": [],
   "source": [
    "memes = Table.read_table('memes.csv')\n",
    "memes.show()"
   ]
  },
  {
   "cell_type": "markdown",
   "metadata": {},
   "source": [
    "**Question 4.1** Twitter is interested in determining which meme formats get the most retweets and likes. Calculate the total number of retweets and likes associated with each of the meme formats, and save a table of these results in a variable called `retweets_likes`. Your table should have three columns, containing, from left to right:\n",
    "* The format of the meme.\n",
    "* The total number of retweets for all memes with this format.\n",
    "* The total number of likes for all memes with this format."
   ]
  },
  {
   "cell_type": "code",
   "execution_count": null,
   "metadata": {
    "collapsed": true
   },
   "outputs": [],
   "source": [
    "retweets_likes = ...\n",
    "retweets_likes"
   ]
  },
  {
   "cell_type": "code",
   "execution_count": null,
   "metadata": {
    "collapsed": true
   },
   "outputs": [],
   "source": [
    "_ = ok.grade('q4_1')"
   ]
  },
  {
   "cell_type": "markdown",
   "metadata": {},
   "source": [
    "**Question 4.2** The total number of retweets and likes should be taken relative to the number of days since the meme was posted, because memes that have been posted for longer will naturally have more of a chance to gather retweets and likes. For each meme format, calculate the number of days since a meme of that format was first posted, and add a column with these results to the table `retweets_likes`, saving your new table in a variable called `retweets_likes_age`."
   ]
  },
  {
   "cell_type": "code",
   "execution_count": null,
   "metadata": {
    "collapsed": true
   },
   "outputs": [],
   "source": [
    "retweets_likes_age = ...\n",
    "retweets_likes_age"
   ]
  },
  {
   "cell_type": "code",
   "execution_count": null,
   "metadata": {
    "collapsed": true
   },
   "outputs": [],
   "source": [
    "_ = ok.grade('q4_2')"
   ]
  },
  {
   "cell_type": "markdown",
   "metadata": {},
   "source": [
    "**Question 4.3** Rank the meme formats by popularity, where the popularity of a meme format is measured as the total number of retweets and likes per day since the meme format was originally posted.\n",
    "\n",
    "Create an array called `popular_memes` that contains the meme formats ranked by popularity, so that the most popular meme is first in the array, and the least popular meme is last."
   ]
  },
  {
   "cell_type": "code",
   "execution_count": null,
   "metadata": {
    "collapsed": true
   },
   "outputs": [],
   "source": [
    "popular_memes = ...\n",
    "popular_memes"
   ]
  },
  {
   "cell_type": "code",
   "execution_count": null,
   "metadata": {
    "collapsed": true
   },
   "outputs": [],
   "source": [
    "_ = ok.grade('q4_3')"
   ]
  },
  {
   "cell_type": "markdown",
   "metadata": {},
   "source": [
    "## 5. Yahtzee "
   ]
  },
  {
   "cell_type": "markdown",
   "metadata": {},
   "source": [
    "In the dice game Yahtzee, players roll and reroll dice, trying to meet certain objectives. A player rolls five dice on the first roll, and after looking at the results, *can choose to* reroll any number of them on the second roll. Similarly, after looking at the results of the second roll, the player can choose to reroll any number of those for the third roll. After the third roll, no more rolling is allowed.\n",
    "\n",
    "One objective in Yahtzee is to roll as many 6's as possible. The standard strategy is as follows:\n",
    "* Roll all five dice.\n",
    "* Keep any that are 6's. Reroll all other dice.\n",
    "* Keep any that are 6's. Reroll all other dice.\n",
    "The number of 6's at the end of this process determined the player's score. "
   ]
  },
  {
   "cell_type": "markdown",
   "metadata": {},
   "source": [
    "**Question 5.1** Create an array called `my_dice` that contains the results of a first Yahtzee roll (that is, five random numbers between 1 and 6)."
   ]
  },
  {
   "cell_type": "code",
   "execution_count": null,
   "metadata": {
    "collapsed": true
   },
   "outputs": [],
   "source": [
    "my_dice = ...\n",
    "my_dice"
   ]
  },
  {
   "cell_type": "code",
   "execution_count": null,
   "metadata": {
    "collapsed": true
   },
   "outputs": [],
   "source": [
    "_ = ok.grade('q5_1')"
   ]
  },
  {
   "cell_type": "markdown",
   "metadata": {},
   "source": [
    "**Question 5.2** Define a function called `reroll()` that takes no inputs and does not return any value, but changes the contents of `my_dice` to show the results after one additional roll. Your function should implement the standard strategy for rolling 6's, that is, keep all dice that were a 6 and reroll all other dice.\n",
    "\n",
    "**Hint** *You can test out your function by repeatedly rerolling. Since you are keeping all the 6's you ever roll, eventually you should get all 6's by repeatedly rerolling.*"
   ]
  },
  {
   "cell_type": "code",
   "execution_count": null,
   "metadata": {
    "collapsed": true
   },
   "outputs": [],
   "source": [
    "def reroll():\n",
    "    ...\n",
    "        \n",
    "reroll()\n",
    "my_dice"
   ]
  },
  {
   "cell_type": "markdown",
   "metadata": {},
   "source": [
    "Now, practice taking a complete turn at Yahtzee, and see how many 6's you can get! Re-run the code cell from question 5.1 to roll new dice. Then use your `reroll()` function twice, and calculate the number of 6's you have at the end of your turn. "
   ]
  },
  {
   "cell_type": "code",
   "execution_count": null,
   "metadata": {
    "collapsed": true
   },
   "outputs": [],
   "source": [
    "# Practice taking a turn here. How many 6's did you get?\n"
   ]
  },
  {
   "cell_type": "markdown",
   "metadata": {},
   "source": [
    "**Question 5.3** Now, use a `for` loop to help you take 100,000 turns at Yahtzee. On each turn, you should roll the dice, reroll them twice, and calculate the number of 6's you have at the end of your turn. Create an array called `sixes` that contains the number of 6's you had at the end of each turn. This array should have 100,000 entries.\n",
    "\n",
    "**Hint** Try taking 10 turns with a `for` loop. Once you are sure you have that figured out, change it to 100,000 turns. It will take a little while (about a minute) for Python to perform the calculations when you are doing 100,000 turns.\n",
    "\n",
    "**Hint** You may need more than one `for` loop. (Try using a nested `for` loop)."
   ]
  },
  {
   "cell_type": "code",
   "execution_count": null,
   "metadata": {
    "collapsed": true
   },
   "outputs": [],
   "source": [
    "sixes = ...    \n",
    "sixes"
   ]
  },
  {
   "cell_type": "code",
   "execution_count": null,
   "metadata": {
    "collapsed": true
   },
   "outputs": [],
   "source": [
    "_ = ok.grade('q5_3')"
   ]
  },
  {
   "cell_type": "markdown",
   "metadata": {},
   "source": [
    "**Question 5.4** Use the data you have collected to approximate the number of 6's would you expect to get in one turn using this strategy. Store your result in a variable called `expected_sixes.` \n",
    "\n",
    "Note that this does not need to be a whole number. For example, if you collected data by repeatedly flipping three coins, you would say that the expected number of heads you see is about 1.5."
   ]
  },
  {
   "cell_type": "code",
   "execution_count": null,
   "metadata": {
    "collapsed": true
   },
   "outputs": [],
   "source": [
    "expected_sixes = ...\n",
    "expected_sixes"
   ]
  },
  {
   "cell_type": "code",
   "execution_count": null,
   "metadata": {
    "collapsed": true
   },
   "outputs": [],
   "source": [
    "_ = ok.grade('q5_4')"
   ]
  },
  {
   "cell_type": "markdown",
   "metadata": {},
   "source": [
    "**Question 5.5** Use the data you have collected to approximate the most commonly rolled number of 6's when taking a single turn using this strategy. Store your result in a variable called `most_common_sixes.`\n",
    "\n",
    "Note that this does need to be a whole number, because it is not very common at all to roll a non-integer number of sixes in a single turn of Yahtzee."
   ]
  },
  {
   "cell_type": "code",
   "execution_count": null,
   "metadata": {
    "collapsed": true
   },
   "outputs": [],
   "source": [
    "most_common_sixes = ...\n",
    "most_common_sixes"
   ]
  },
  {
   "cell_type": "code",
   "execution_count": null,
   "metadata": {
    "collapsed": true
   },
   "outputs": [],
   "source": [
    "_ = ok.grade('q5_5')"
   ]
  },
  {
   "cell_type": "markdown",
   "metadata": {},
   "source": [
    "\n",
    "To submit:\n",
    "\n",
    "1. Select `Run All` from the `Cell` menu to ensure that you have executed all cells, including the test cells.\n",
    "3. Read through the notebook to make sure everything is fine.\n",
    "4. Submit using the cell below.\n",
    "5. Save PDF and submit to gradescope"
   ]
  },
  {
   "cell_type": "code",
   "execution_count": null,
   "metadata": {
    "collapsed": true
   },
   "outputs": [],
   "source": [
    "_ = ok.submit()"
   ]
  },
  {
   "cell_type": "markdown",
   "metadata": {},
   "source": [
    "## Don't forget to submit to both OK and Gradescope!"
   ]
  },
  {
   "cell_type": "markdown",
   "metadata": {},
   "source": [
    "<img src=\"finished.jpg\" width=60%>\n"
   ]
  },
  {
   "cell_type": "code",
   "execution_count": null,
   "metadata": {
    "collapsed": true
   },
   "outputs": [],
   "source": []
  }
 ],
 "metadata": {
  "kernelspec": {
   "display_name": "Python 3",
   "language": "python",
   "name": "python3"
  },
  "language_info": {
   "codemirror_mode": {
    "name": "ipython",
    "version": 3
   },
   "file_extension": ".py",
   "mimetype": "text/x-python",
   "name": "python",
   "nbconvert_exporter": "python",
   "pygments_lexer": "ipython3",
   "version": "3.7.0"
  }
 },
 "nbformat": 4,
 "nbformat_minor": 2
}
